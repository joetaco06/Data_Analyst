{
 "cells": [
  {
   "cell_type": "markdown",
   "metadata": {},
   "source": [
    "# SPRINT S7 – PYTHON:  NOCIONES Y CONOCIMIENTOS BÁSICOS \n",
    "\n",
    "# Nivel 1\n",
    "\n",
    "# Ejercicio 1.1\n",
    "\n",
    "Calculadora del índice de masa corporal: Escribir una función que calcule el IMC ingresado por el usuario/a, es decir, quien lo ejecute deberá ingresar estos datos. La función debe clasificar el resultado en sus respectivas categorías. \n",
    "\n",
    "# SOLUCIÓN Y EXPLICACIÓN:\n",
    "\n",
    "- def calcular_imc(): Se ha iniciado la solución definiendo la función calcular_imc que calculará el Índice de Masa Corporal (IMC) en base a los datos ingresados. \n",
    "\n",
    "- Try : Permitirá manejar eventuales errores cuando se ingresen los datos solicitados. Cualquier error se manejará en el bloque posterior iniciado con except.\n",
    "\n",
    "- peso = ... : Se solicita el peso al usuario, el cual se convertirá a float, pues si fuera decimal se podrá tratar a través de operaciones. Si se ingresara un valor no númerico, entonces el código ejecutará la sección except con el mensaje del ValueError.\n",
    "\n",
    "- altura = ... : Se solicita la altura al usuario. Se especifica el formato en el que deseamos obtener la data.\n",
    "\n",
    "- imc = peso / (altura ** 2) :  Calcula el IMC en base a los datos ingresados. \n",
    "\n",
    "- En la sección de las declaraciones condicionales if, elif y else lo que se hace es clasificar el IMC en diferentes categorías.\n",
    "\n",
    "- print(f\"Su IMC es: {imc:.2f}, ... : Se imprime el resultado del cálculo.\n",
    "\n",
    "- except ValueError: En esta sección se manejan los errores provenientes del ingreso de datos inválidos. En caso de activarse, se lanza el  mensaje de volver a ingresar los datos. \n",
    "\n",
    "- El código finaliza llamando a la función calcular_imc: \n"
   ]
  },
  {
   "cell_type": "code",
   "execution_count": 21,
   "metadata": {},
   "outputs": [
    {
     "name": "stdout",
     "output_type": "stream",
     "text": [
      "Su IMC es: 23.66, perteneciendo a la categoría de: Peso normal\n"
     ]
    }
   ],
   "source": [
    "def calcular_imc():\n",
    "    try:\n",
    "        peso = float(input(\"Por favor, ingresar su peso en kilogramos. Usar el punto en caso de decimales: \"))\n",
    "        altura = float(input(\"Ahora, ingresar su altura en metros. Usar el punto en caso de decimales: \"))\n",
    "        \n",
    "        imc = peso / (altura ** 2)\n",
    "        \n",
    "        if imc < 18.5:\n",
    "            categoria = \"Bajo peso\"\n",
    "        elif 18.5 <= imc < 24.9:\n",
    "            categoria = \"Peso normal\"\n",
    "        elif 25 <= imc < 29.9:\n",
    "            categoria = \"Sobrepeso\"\n",
    "        else:\n",
    "            categoria = \"Obesidad\"\n",
    "        \n",
    "        print(f\"Su IMC es: {imc:.2f}, perteneciendo a la categoría de: {categoria}\")\n",
    "    \n",
    "    except ValueError:\n",
    "        print(\"Por favor, ingrese valores numéricos válidos para peso y altura.\")\n",
    "\n",
    "# Llamar a la función\n",
    "calcular_imc()"
   ]
  }
 ],
 "metadata": {
  "kernelspec": {
   "display_name": "Python 3",
   "language": "python",
   "name": "python3"
  },
  "language_info": {
   "codemirror_mode": {
    "name": "ipython",
    "version": 3
   },
   "file_extension": ".py",
   "mimetype": "text/x-python",
   "name": "python",
   "nbconvert_exporter": "python",
   "pygments_lexer": "ipython3",
   "version": "3.12.0"
  }
 },
 "nbformat": 4,
 "nbformat_minor": 2
}
